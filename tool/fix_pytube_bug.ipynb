{
 "cells": [
  {
   "cell_type": "code",
   "execution_count": 1,
   "id": "b7c1208f-2790-4337-9ac9-bbee9749fbb3",
   "metadata": {
    "tags": []
   },
   "outputs": [
    {
     "name": "stdout",
     "output_type": "stream",
     "text": [
      "fix pytube cipher.py\n",
      "C:\\ProgramData\\anaconda3\\envs\\find_keyword_inyt\\Lib\\site-packages\\pytube\\cipher.py\n"
     ]
    }
   ],
   "source": [
    "import os\n",
    "import shutil\n",
    "def fix_pytube_bug():\n",
    "    import pytube\n",
    "    print(\"fix pytube cipher.py\")\n",
    "    fix_path = os.path.abspath(pytube.__file__)\n",
    "    fix_path = os.path.join(fix_path.split(\"__init__.py\")[0], \"cipher.py\")\n",
    "    print(fix_path)\n",
    "    src_location = os.path.join(os.getcwd(), 'cipher.py')\n",
    "    shutil.copyfile(src_location, fix_path)\n",
    "fix_pytube_bug()    "
   ]
  },
  {
   "cell_type": "code",
   "execution_count": 1,
   "id": "18353f0a-c50d-448c-bd4b-a9a863f931a8",
   "metadata": {},
   "outputs": [
    {
     "name": "stderr",
     "output_type": "stream",
     "text": [
      "C:\\ProgramData\\anaconda3\\envs\\find_keyword_inyt\\Lib\\site-packages\\whisper\\timing.py:57: NumbaDeprecationWarning: \u001b[1mThe 'nopython' keyword argument was not supplied to the 'numba.jit' decorator. The implicit default value for this argument is currently False, but it will be changed to True in Numba 0.59.0. See https://numba.readthedocs.io/en/stable/reference/deprecation.html#deprecation-of-object-mode-fall-back-behaviour-when-using-jit for details.\u001b[0m\n",
      "  @numba.jit\n"
     ]
    },
    {
     "name": "stdout",
     "output_type": "stream",
     "text": [
      "Importing the dtw module. When using in academic works please cite:\n",
      "  T. Giorgino. Computing and Visualizing Dynamic Time Warping Alignments in R: The dtw Package.\n",
      "  J. Stat. Soft., doi:10.18637/jss.v031.i07.\n",
      "\n"
     ]
    }
   ],
   "source": [
    "import whisper_timestamped as whisper"
   ]
  },
  {
   "cell_type": "code",
   "execution_count": 3,
   "id": "d054bd50-5916-4ff8-b382-ac5c0fdc119e",
   "metadata": {
    "tags": []
   },
   "outputs": [
    {
     "name": "stderr",
     "output_type": "stream",
     "text": [
      "100%|██████████| 1400/1400 [00:01<00:00, 1066.36frames/s]\n"
     ]
    }
   ],
   "source": [
    "audio = whisper.load_audio('../resampled_cut.wav')\n",
    "model = whisper.load_model(\"base\")\n",
    "result = whisper.transcribe(model, audio, language=\"en\")"
   ]
  },
  {
   "cell_type": "code",
   "execution_count": null,
   "id": "0999aa6f-3507-4baf-b670-8701fe262319",
   "metadata": {},
   "outputs": [],
   "source": []
  }
 ],
 "metadata": {
  "kernelspec": {
   "display_name": "Python 3 (ipykernel)",
   "language": "python",
   "name": "python3"
  },
  "language_info": {
   "codemirror_mode": {
    "name": "ipython",
    "version": 3
   },
   "file_extension": ".py",
   "mimetype": "text/x-python",
   "name": "python",
   "nbconvert_exporter": "python",
   "pygments_lexer": "ipython3",
   "version": "3.11.4"
  }
 },
 "nbformat": 4,
 "nbformat_minor": 5
}
