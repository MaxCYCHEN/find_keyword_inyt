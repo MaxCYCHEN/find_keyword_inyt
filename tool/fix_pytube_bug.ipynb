{
 "cells": [
  {
   "cell_type": "code",
   "execution_count": 2,
   "id": "b7c1208f-2790-4337-9ac9-bbee9749fbb3",
   "metadata": {},
   "outputs": [
    {
     "name": "stdout",
     "output_type": "stream",
     "text": [
      "fix pytube cipher.py\n",
      "C:\\ProgramData\\Anaconda3\\envs\\kwsenv\\lib\\site-packages\\pytube\\cipher.py\n"
     ]
    }
   ],
   "source": [
    "import os\n",
    "def fix_pytube_bug():\n",
    "    import pytube\n",
    "    print(\"fix pytube cipher.py\")\n",
    "    fix_path = os.path.abspath(pytube.__file__)\n",
    "    fix_path = os.path.join(fix_path.split(\"__init__.py\")[0], \"cipher.py\")\n",
    "    print(fix_path)\n",
    "    src_location = os.path.join(os.getcwd(), 'cipher.py')\n",
    "    shutil.copyfile(src_location, fix_path)\n",
    "fix_pytube_bug()    "
   ]
  },
  {
   "cell_type": "code",
   "execution_count": null,
   "id": "18353f0a-c50d-448c-bd4b-a9a863f931a8",
   "metadata": {},
   "outputs": [],
   "source": []
  }
 ],
 "metadata": {
  "kernelspec": {
   "display_name": "Python 3 (ipykernel)",
   "language": "python",
   "name": "python3"
  },
  "language_info": {
   "codemirror_mode": {
    "name": "ipython",
    "version": 3
   },
   "file_extension": ".py",
   "mimetype": "text/x-python",
   "name": "python",
   "nbconvert_exporter": "python",
   "pygments_lexer": "ipython3",
   "version": "3.8.13"
  }
 },
 "nbformat": 4,
 "nbformat_minor": 5
}
