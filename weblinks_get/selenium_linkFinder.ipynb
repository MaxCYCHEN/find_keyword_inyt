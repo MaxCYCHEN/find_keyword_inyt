{
 "cells": [
  {
   "cell_type": "code",
   "execution_count": null,
   "id": "73dda5d6-d2f9-4d9b-a476-8085c234609f",
   "metadata": {
    "tags": []
   },
   "outputs": [],
   "source": [
    "from selenium import webdriver\n",
    "from selenium.webdriver.common.by import By\n",
    "import time\n",
    "import random"
   ]
  },
  {
   "cell_type": "markdown",
   "id": "fba579d3",
   "metadata": {},
   "source": [
    "### Decide the keyword and build the driver"
   ]
  },
  {
   "cell_type": "code",
   "execution_count": null,
   "id": "b5f330e6-7535-4e68-a6be-73b9fd656542",
   "metadata": {
    "tags": []
   },
   "outputs": [],
   "source": [
    "keyword = \"zoom out\"\n",
    "\n",
    "driver = webdriver.Chrome()\n",
    "url = \"https://youglish.com/pronounce/{}/english?\".format(keyword)\n",
    "driver.get(url)"
   ]
  },
  {
   "cell_type": "code",
   "execution_count": null,
   "id": "a28f3fb5",
   "metadata": {},
   "outputs": [],
   "source": [
    "description_cont = driver.find_element(By.NAME, \"description\").get_attribute(\"content\")\n",
    "yt_list_len = int(description_cont.split(' ')[2])\n",
    "print(\"Total number of keyword:{} youtubes: {}\".format(keyword, yt_list_len))"
   ]
  },
  {
   "cell_type": "markdown",
   "id": "d98b2111",
   "metadata": {},
   "source": [
    "### Skip the pages"
   ]
  },
  {
   "cell_type": "code",
   "execution_count": null,
   "id": "d246c67c",
   "metadata": {},
   "outputs": [],
   "source": [
    "fail_page = 0\n",
    "dynamic_range = 319\n",
    "\n",
    "for idx in range(dynamic_range):\n",
    "    try:\n",
    "        # Go to next page\n",
    "        #driver.switch_to.default_content()\n",
    "        driver.find_element(By.ID, \"b_next\").click()\n",
    "\n",
    "        if idx%50 == 49:\n",
    "            driver.execute_script(\"window.scrollBy(0, 1000);\")\n",
    "            time.sleep(2*random.random())\n",
    "            driver.execute_script(\"window.scrollBy(0, -1000);\")\n",
    "\n",
    "        if idx%9 == 8:\n",
    "            time.sleep(7)\n",
    "            driver.find_element(By.ID, \"b_pause\").click()\n",
    "            time.sleep(5*random.random())\n",
    "\n",
    "\n",
    "        if idx%50 == 49:\n",
    "            time.sleep(6)\n",
    "        else:      \n",
    "            time.sleep((3*random.random()))\n",
    "\n",
    "\n",
    "    except:\n",
    "        fail_page = idx + 1\n",
    "        break\n",
    "print(fail_page)        "
   ]
  },
  {
   "cell_type": "code",
   "execution_count": null,
   "id": "270a1dbd",
   "metadata": {},
   "outputs": [],
   "source": [
    "time.sleep(20)"
   ]
  },
  {
   "cell_type": "markdown",
   "id": "0f2d6c96",
   "metadata": {},
   "source": [
    "### Main block: Get TY Links"
   ]
  },
  {
   "cell_type": "code",
   "execution_count": null,
   "id": "be4d1e5c",
   "metadata": {},
   "outputs": [],
   "source": [
    "fail_page = 0\n",
    "dynamic_range = 2406\n",
    "skip_range = 0\n",
    "yt_list = []\n",
    "\n",
    "for idx in range(dynamic_range):\n",
    "    try:\n",
    "        if idx%5 == 4:\n",
    "             time.sleep(3*random.random())\n",
    "\n",
    "        if idx > skip_range:\n",
    "            time.sleep(1*random.random())     \n",
    "            print(\"{} page.\".format(idx))\n",
    "            iframes = driver.find_elements(By.TAG_NAME, \"iframe\")\n",
    "            driver.switch_to.frame(iframes[2])\n",
    "            time.sleep(1*random.random())\n",
    "            \n",
    "            yt_link = driver.find_element(By.CLASS_NAME, \"ytp-title-link\").get_attribute(\"href\")\n",
    "            yt_list.append(yt_link)\n",
    "            time.sleep(1*random.random())\n",
    "        \n",
    "        time.sleep(5)\n",
    "\n",
    "        # Go to next page\n",
    "        driver.switch_to.default_content()\n",
    "        driver.find_element(By.ID, \"b_next\").click()\n",
    "\n",
    "        if idx%50 == 49:\n",
    "            driver.execute_script(\"window.scrollBy(0, 1000);\")\n",
    "            time.sleep(2*random.random())\n",
    "            driver.execute_script(\"window.scrollBy(0, -1000);\")\n",
    "\n",
    "        if idx==320 or idx==321 or idx==319 or idx==322:\n",
    "            time.sleep(25)\n",
    "\n",
    "        if idx%9 == 8 or idx==320 or idx==321 or idx==319 or idx==322:\n",
    "            time.sleep(7)\n",
    "            driver.find_element(By.ID, \"b_pause\").click()\n",
    "            time.sleep(5*random.random())\n",
    "\n",
    "\n",
    "        if idx%50 == 49:\n",
    "            time.sleep(6)\n",
    "        else:      \n",
    "            time.sleep((3*random.random()))\n",
    "\n",
    "\n",
    "    except:\n",
    "        fail_page = idx + 1\n",
    "        break\n",
    "\n",
    "print(\"fail page: {}\".format(fail_page))\n",
    "with open('yt_links_{}.txt'.format(keyword),'a') as tfile:\n",
    "\ttfile.write('\\n'.join(yt_list))"
   ]
  }
 ],
 "metadata": {
  "kernelspec": {
   "display_name": "Python 3 (ipykernel)",
   "language": "python",
   "name": "python3"
  },
  "language_info": {
   "codemirror_mode": {
    "name": "ipython",
    "version": 3
   },
   "file_extension": ".py",
   "mimetype": "text/x-python",
   "name": "python",
   "nbconvert_exporter": "python",
   "pygments_lexer": "ipython3",
   "version": "3.11.4"
  }
 },
 "nbformat": 4,
 "nbformat_minor": 5
}
